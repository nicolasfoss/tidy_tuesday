{
 "cells": [
  {
   "cell_type": "markdown",
   "metadata": {},
   "source": [
    "# Tidy Tuesday Project for September 17th, 2024\n",
    "\n",
    "Hello there, folks!  I am coming at you with my first #tidytuesday project.  I am currently learning the [Julia](https://julialang.org/) programming language, and so that is what I am going to use in this notebook.\n",
    "\n",
    "Please feel free to critique me if you are a Julia programmer!"
   ]
  },
  {
   "cell_type": "markdown",
   "metadata": {},
   "source": [
    "## The Shakespeare Dialogue Dataset"
   ]
  },
  {
   "cell_type": "markdown",
   "metadata": {},
   "source": [
    "Thanks to [nrennie](https://github.com/nrennie), we have access to a dataset that you can find --> [here](https://github.com/nrennie/shakespeare).\n",
    "\n",
    "The author of the dataset we are using webscraped the data from [here](https://shakespeare.mit.edu/).\n",
    "\n",
    "Let's get to it!"
   ]
  },
  {
   "cell_type": "markdown",
   "metadata": {},
   "source": [
    "### Setup"
   ]
  },
  {
   "cell_type": "code",
   "execution_count": null,
   "metadata": {
    "vscode": {
     "languageId": "julia"
    }
   },
   "outputs": [],
   "source": [
    "# import Pkg and then other required packages\n",
    "using Pkg\n",
    "Pkg.add([\"CSV\", \"DataFrames\", \"HTTP\", \"Statistics\", \"StatsPlots\", \"Plots\"])\n",
    "\n",
    "# load\n",
    "using CSV, DataFrames, HTTP, Statistics, StatsPlots, Plots"
   ]
  },
  {
   "cell_type": "markdown",
   "metadata": {},
   "source": [
    "### Import data"
   ]
  },
  {
   "cell_type": "code",
   "execution_count": null,
   "metadata": {
    "vscode": {
     "languageId": "julia"
    }
   },
   "outputs": [],
   "source": [
    "# Read directly from GitHub\n",
    "hamlet_url = \"https://raw.githubusercontent.com/rfordatascience/tidytuesday/master/data/2024/2024-09-17/hamlet.csv\"\n",
    "macbeth_url = \"https://raw.githubusercontent.com/rfordatascience/tidytuesday/master/data/2024/2024-09-17/macbeth.csv\"\n",
    "romeo_juliet_url = \"https://raw.githubusercontent.com/rfordatascience/tidytuesday/master/data/2024/2024-09-17/romeo_juliet.csv\"\n",
    "\n",
    "# Create DataFrames\n",
    "hamlet = CSV.read(HTTP.get(hamlet_url).body, DataFrame)\n",
    "macbeth = CSV.read(HTTP.get(macbeth_url).body, DataFrame)\n",
    "romeo_juliet = CSV.read(HTTP.get(romeo_juliet_url).body, DataFrame);\n"
   ]
  },
  {
   "cell_type": "markdown",
   "metadata": {},
   "source": [
    "### Hamlet 📚"
   ]
  },
  {
   "cell_type": "code",
   "execution_count": null,
   "metadata": {
    "vscode": {
     "languageId": "julia"
    }
   },
   "outputs": [],
   "source": [
    "# Basic Description\n",
    "describe(hamlet)"
   ]
  },
  {
   "cell_type": "code",
   "execution_count": null,
   "metadata": {
    "vscode": {
     "languageId": "julia"
    }
   },
   "outputs": [],
   "source": [
    "# Number of unique characters\n",
    "unique_characters = unique(hamlet.character)\n",
    "println(\"Number of unique characters: \", length(unique_characters))"
   ]
  },
  {
   "cell_type": "code",
   "execution_count": null,
   "metadata": {
    "vscode": {
     "languageId": "julia"
    }
   },
   "outputs": [],
   "source": [
    "# Most frequent characters\n",
    "character_counts = combine(groupby(hamlet, :character), nrow => :Count)\n",
    "sorted_counts = sort(character_counts, :Count, rev=true)\n",
    "println(\"Most frequent characters:\\n\", sorted_counts[1:10, :character, :Count])"
   ]
  },
  {
   "cell_type": "code",
   "execution_count": null,
   "metadata": {
    "vscode": {
     "languageId": "julia"
    }
   },
   "outputs": [],
   "source": [
    "# Distribution of dialogue lengths\n",
    "hamlet.dialogue_length = length.(hamlet.dialogue)\n",
    "\n",
    "histogram(hamlet.dialogue_length, \n",
    "bins=20, \n",
    "title=\"Distribution of Dialogue Lengths in Hamlet\", \n",
    "xlabel=\"Dialogue Length\", \n",
    "ylabel=\"Count\"\n",
    ")"
   ]
  },
  {
   "cell_type": "code",
   "execution_count": null,
   "metadata": {
    "vscode": {
     "languageId": "julia"
    }
   },
   "outputs": [],
   "source": [
    "# Plot line number distribution by act and scene\n",
    "scatter(hamlet.line_number, \n",
    "hamlet.act, \n",
    "group=hamlet.scene, \n",
    "legend=:topright, \n",
    "title=\"Line Number Distribution by Act and Scene\", \n",
    "xlabel=\"Line Number\", \n",
    "ylabel=\"Act\"\n",
    ")"
   ]
  },
  {
   "cell_type": "markdown",
   "metadata": {},
   "source": [
    "### Macbeth 🗡️"
   ]
  },
  {
   "cell_type": "code",
   "execution_count": null,
   "metadata": {
    "vscode": {
     "languageId": "julia"
    }
   },
   "outputs": [],
   "source": [
    "# Basic Description\n",
    "describe(macbeth)"
   ]
  },
  {
   "cell_type": "code",
   "execution_count": null,
   "metadata": {
    "vscode": {
     "languageId": "julia"
    }
   },
   "outputs": [],
   "source": [
    "# Number of unique characters\n",
    "unique_characters_macbeth = unique(macbeth.character)\n",
    "println(\"Number of unique characters: \", length(unique_characters_macbeth))"
   ]
  },
  {
   "cell_type": "code",
   "execution_count": null,
   "metadata": {
    "vscode": {
     "languageId": "julia"
    }
   },
   "outputs": [],
   "source": [
    "# Most frequent characters\n",
    "character_counts_macbeth = combine(groupby(macbeth, :character), nrow => :Count)\n",
    "sorted_counts_macbeth = sort(character_counts_macbeth, :Count, rev=true)\n",
    "println(\"Most frequent characters:\\n\", sorted_counts_macbeth[1:10, :character, :Count])"
   ]
  },
  {
   "cell_type": "code",
   "execution_count": null,
   "metadata": {
    "vscode": {
     "languageId": "julia"
    }
   },
   "outputs": [],
   "source": [
    "# Distribution of dialogue lengths\n",
    "macbeth.dialogue_length = length.(macbeth.dialogue)\n",
    "histogram(macbeth.dialogue_length, \n",
    "bins=20, \n",
    "title=\"Distribution of Dialogue Lengths in Macbeth\", \n",
    "xlabel=\"Dialogue Length\", \n",
    "ylabel=\"Count\"\n",
    ")"
   ]
  },
  {
   "cell_type": "code",
   "execution_count": null,
   "metadata": {
    "vscode": {
     "languageId": "julia"
    }
   },
   "outputs": [],
   "source": [
    "# Plot line number distribution by act and scene\n",
    "scatter(macbeth.line_number, \n",
    "macbeth.act, \n",
    "group=macbeth.scene, \n",
    "legend=:topright, \n",
    "title=\"Line Number Distribution by Act and Scene\", \n",
    "xlabel=\"Line Number\", \n",
    "ylabel=\"Act\"\n",
    ")"
   ]
  },
  {
   "cell_type": "markdown",
   "metadata": {},
   "source": [
    "### Romeo & Juliet ❤️"
   ]
  },
  {
   "cell_type": "code",
   "execution_count": null,
   "metadata": {
    "vscode": {
     "languageId": "julia"
    }
   },
   "outputs": [],
   "source": [
    "# Basic Description\n",
    "describe(romeo_juliet)"
   ]
  },
  {
   "cell_type": "code",
   "execution_count": null,
   "metadata": {
    "vscode": {
     "languageId": "julia"
    }
   },
   "outputs": [],
   "source": [
    "# Number of unique characters\n",
    "unique_characters_rj = unique(romeo_juliet.character)\n",
    "println(\"Number of unique characters: \", length(unique_characters_rj))"
   ]
  },
  {
   "cell_type": "code",
   "execution_count": null,
   "metadata": {
    "vscode": {
     "languageId": "julia"
    }
   },
   "outputs": [],
   "source": [
    "# Most frequent characters\n",
    "character_counts_rj = combine(groupby(romeo_juliet, :character), nrow => :Count)\n",
    "sorted_counts_rj = sort(character_counts_rj, :Count, rev=true)\n",
    "println(\"Most frequent characters:\\n\", sorted_counts_rj[1:10, :character, :Count])"
   ]
  },
  {
   "cell_type": "code",
   "execution_count": null,
   "metadata": {
    "vscode": {
     "languageId": "julia"
    }
   },
   "outputs": [],
   "source": [
    "# Distribution of dialogue lengths\n",
    "romeo_juliet.dialogue_length = length.(romeo_juliet.dialogue)\n",
    "histogram(romeo_juliet.dialogue_length, \n",
    "bins=20, \n",
    "title=\"Distribution of Dialogue Lengths in Romeo & Juliet\", \n",
    "xlabel=\"Dialogue Length\", \n",
    "ylabel=\"Count\"\n",
    ")"
   ]
  },
  {
   "cell_type": "code",
   "execution_count": null,
   "metadata": {
    "vscode": {
     "languageId": "julia"
    }
   },
   "outputs": [],
   "source": [
    "# Plot line number distribution by act and scene\n",
    "scatter(romeo_juliet.line_number, \n",
    "romeo_juliet.act, \n",
    "group=romeo_juliet.scene, \n",
    "legend=:topright, \n",
    "title=\"Line Number Distribution by Act and Scene\", \n",
    "xlabel=\"Line Number\", \n",
    "ylabel=\"Act\"\n",
    ")"
   ]
  }
 ],
 "metadata": {
  "language_info": {
   "name": "python"
  }
 },
 "nbformat": 4,
 "nbformat_minor": 2
}
