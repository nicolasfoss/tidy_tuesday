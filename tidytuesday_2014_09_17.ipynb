{
 "cells": [
  {
   "cell_type": "markdown",
   "metadata": {},
   "source": [
    "# Tidy Tuesday Project for September 17th, 2024\n",
    "\n",
    "Hello there, folks!  I am coming at you with my first #tidytuesday project.  I am currently learning the [Julia](https://julialang.org/) programming language, and so that is what I am going to use in this notebook.\n",
    "\n",
    "Please feel free to critique me if you are a Julia programmer!"
   ]
  },
  {
   "cell_type": "markdown",
   "metadata": {},
   "source": [
    "## The Shakespeare Dialogue Dataset"
   ]
  },
  {
   "cell_type": "markdown",
   "metadata": {},
   "source": [
    "Thanks to [nrennie](https://github.com/nrennie), we have access to a dataset that you can find --> [here](https://github.com/nrennie/shakespeare).\n",
    "\n",
    "The author of the dataset we are using webscraped the data from [here](https://shakespeare.mit.edu/).\n",
    "\n",
    "Let's get to it!"
   ]
  },
  {
   "cell_type": "markdown",
   "metadata": {},
   "source": [
    "### Setup"
   ]
  },
  {
   "cell_type": "code",
   "execution_count": null,
   "metadata": {
    "vscode": {
     "languageId": "julia"
    }
   },
   "outputs": [],
   "source": [
    "# import Pkg and then other required packages\n",
    "using Pkg\n",
    "Pkg.add([\"CSV\", \"DataFrames\", \"HTTP\", \"Statistics\", \"StatsPlots\", \"Plots\"])\n",
    "\n",
    "# load\n",
    "using CSV, DataFrames, HTTP, Statistics, StatsPlots, Plots"
   ]
  },
  {
   "cell_type": "markdown",
   "metadata": {},
   "source": [
    "### Import data"
   ]
  },
  {
   "cell_type": "code",
   "execution_count": null,
   "metadata": {
    "vscode": {
     "languageId": "julia"
    }
   },
   "outputs": [],
   "source": [
    "# Read directly from GitHub\n",
    "hamlet_url = \"https://raw.githubusercontent.com/rfordatascience/tidytuesday/master/data/2024/2024-09-17/hamlet.csv\"\n",
    "macbeth_url = \"https://raw.githubusercontent.com/rfordatascience/tidytuesday/master/data/2024/2024-09-17/macbeth.csv\"\n",
    "romeo_juliet_url = \"https://raw.githubusercontent.com/rfordatascience/tidytuesday/master/data/2024/2024-09-17/romeo_juliet.csv\"\n",
    "\n",
    "# Create DataFrames\n",
    "hamlet = CSV.read(HTTP.get(hamlet_url).body, DataFrame)\n",
    "macbeth = CSV.read(HTTP.get(macbeth_url).body, DataFrame)\n",
    "romeo_juliet = CSV.read(HTTP.get(romeo_juliet_url).body, DataFrame);\n"
   ]
  }
 ],
 "metadata": {
  "language_info": {
   "name": "python"
  }
 },
 "nbformat": 4,
 "nbformat_minor": 2
}
