{
 "cells": [
  {
   "cell_type": "markdown",
   "metadata": {},
   "source": [
    "# The National Parks Dataset for Tidy Tuesday!\n",
    "\n",
    "Here is some great information about today's dataset!  \n",
    "\n",
    "> The information in NPSpecies is available to the public. The exceptions to this are records for some sensitive, threatened, or endangered species, where widespread distribution of information could potentially put a species at risk.  \n",
    ">\n",
    "> An essential component of NPSpecies is evidence; that is, observations, vouchers, or reports that document the presence of a species in a park. Ideally, every species in a park that is designated as “present in park” will have at least one form of credible evidence substantiating the designation\n",
    "\n",
    "Thanks to [f.hull](https://github.com/frankiethull) for putting the dataset together.  \n",
    "\n",
    "Access the data and more, here! --> [link](https://github.com/rfordatascience/tidytuesday/blob/504d69514fc162bb6fb76a9ffd356941330f0df9/data/2024/2024-10-08/readme.md)\n",
    "\n"
   ]
  },
  {
   "cell_type": "markdown",
   "metadata": {},
   "source": [
    "## Setup"
   ]
  },
  {
   "cell_type": "code",
   "execution_count": 1,
   "metadata": {},
   "outputs": [
    {
     "name": "stderr",
     "output_type": "stream",
     "text": [
      "\u001b[32m\u001b[1m   Resolving\u001b[22m\u001b[39m package versions...\n",
      "\u001b[32m\u001b[1m  No Changes\u001b[22m\u001b[39m to `C:\\Users\\ndfos\\.julia\\environments\\v1.10\\Project.toml`\n",
      "\u001b[32m\u001b[1m  No Changes\u001b[22m\u001b[39m to `C:\\Users\\ndfos\\.julia\\environments\\v1.10\\Manifest.toml`\n"
     ]
    }
   ],
   "source": [
    "# installation\n",
    "using Pkg\n",
    "Pkg.add([\"DataFrames\", \"CSV\", \"HTTP\", \"StatsPlots\",\n",
    "    \"StatsBase\", \"Plots\", \"SummaryTables\", \"DataFramesMeta\",\n",
    "    \"Chain\", \"CategoricalArrays\", \"Measures\", \"PlotThemes\",\n",
    "    \"SplitApplyCombine\"\n",
    "])\n",
    "\n",
    "# load\n",
    "using DataFrames, CSV, HTTP, StatsPlots, StatsBase, Plots, SummaryTables, DataFramesMeta, Chain, CategoricalArrays, Measures, PlotThemes, SplitApplyCombine"
   ]
  },
  {
   "cell_type": "markdown",
   "metadata": {},
   "source": [
    "## Data"
   ]
  },
  {
   "cell_type": "code",
   "execution_count": null,
   "metadata": {},
   "outputs": [],
   "source": [
    "# Option 1: Fetch data directly from GitHub\n",
    "url = \"https://raw.githubusercontent.com/rfordatascience/tidytuesday/master/data/2024/2024-10-08/most_visited_nps_species_data.csv\"\n",
    " \n",
    "response = HTTP.get(url)\n",
    "\n",
    "# Parse the CSV into a DataFrame\n",
    "species_data = CSV.read(response.body, DataFrame)\n",
    "\n",
    "# Verify the first few rows\n",
    "first(species_data, 5)\n"
   ]
  },
  {
   "cell_type": "code",
   "execution_count": 3,
   "metadata": {},
   "outputs": [
    {
     "ename": "UndefVarError",
     "evalue": "UndefVarError: `species_data` not defined",
     "output_type": "error",
     "traceback": [
      "UndefVarError: `species_data` not defined\n",
      "\n",
      "Stacktrace:\n",
      " [1] top-level scope\n",
      "   @ c:\\Users\\ndfos\\Documents\\tidy_tuesday\\National_Parks_2024_10_08\\jl_notebook_cell_df34fa98e69747e1a8f8a730347b8e2f_W5sZmlsZQ==.jl:1"
     ]
    }
   ],
   "source": [
    "unique(species_data.CategoryName)"
   ]
  },
  {
   "cell_type": "code",
   "execution_count": 4,
   "metadata": {},
   "outputs": [
    {
     "ename": "UndefVarError",
     "evalue": "UndefVarError: `species_data` not defined",
     "output_type": "error",
     "traceback": [
      "UndefVarError: `species_data` not defined\n",
      "\n",
      "Stacktrace:\n",
      " [1] top-level scope\n",
      "   @ c:\\Users\\ndfos\\Documents\\tidy_tuesday\\National_Parks_2024_10_08\\jl_notebook_cell_df34fa98e69747e1a8f8a730347b8e2f_W6sZmlsZQ==.jl:3"
     ]
    }
   ],
   "source": [
    "# check the data\n",
    "\n",
    "describe(species_data)"
   ]
  },
  {
   "cell_type": "markdown",
   "metadata": {},
   "source": [
    "## Steps for the Analysis:\n",
    "* Filter the dataset: Focus on the 15 most visited parks and ensure we capture relevant columns like `ParkName`, `Abundance`, and `Nativeness`.\n",
    "* Group and summarize: We'll summarize the abundance of species for each park, grouped by nativeness (native vs non-native).\n",
    "* Create a stacked bar chart: We'll visualize species abundance by park, stacking native and non-native species for easy comparison.\n",
    "\n",
    "## Code to Filter and Summarize:"
   ]
  },
  {
   "cell_type": "code",
   "execution_count": 5,
   "metadata": {},
   "outputs": [
    {
     "ename": "UndefVarError",
     "evalue": "UndefVarError: `species_data` not defined",
     "output_type": "error",
     "traceback": [
      "UndefVarError: `species_data` not defined\n",
      "\n",
      "Stacktrace:\n",
      " [1] top-level scope\n",
      "   @ c:\\Users\\ndfos\\Documents\\tidy_tuesday\\National_Parks_2024_10_08\\jl_notebook_cell_df34fa98e69747e1a8f8a730347b8e2f_X11sZmlsZQ==.jl:3"
     ]
    }
   ],
   "source": [
    "# Filter and summarize data using @chain macro\n",
    "species_abundance_summary = @chain begin\n",
    "    species_data\n",
    "    @transform(:CommonNames = ifelse.(:CommonNames .== \"NA\", :SciName, :CommonNames))\n",
    "    @transform(:CommonNames = ifelse.(occursin.(\",\", :CommonNames), first.(split.(:CommonNames, \",\")), :CommonNames))  # Handle split only if comma exists\n",
    "    groupby([:ParkName, :Nativeness])\n",
    "    combine(:Nativeness => length => :Count; ungroup=true)\n",
    "    sort([:ParkName, order(:Sightings, rev=true)])\n",
    "    filter(:Sightings => x -> x .> 0, _)\n",
    "    groupby(:ParkName)\n",
    "    subset(:Sightings => x -> x .== maximum(x))\n",
    "    groupby(:ParkName)\n",
    "    combine(:ParkName => first => :ParkName, :CommonNames => first => :CommonNames, :Sightings => first => :Sightings)  # Combine with max sightings per ParkName\n",
    "end\n",
    "\n"
   ]
  },
  {
   "cell_type": "markdown",
   "metadata": {},
   "source": [
    "## Visualize"
   ]
  },
  {
   "cell_type": "markdown",
   "metadata": {},
   "source": [
    "### Stacked Bar Chart:\n",
    "\n",
    "Once we have the summarized data, we can create the stacked bar chart.\n",
    "\n",
    "This will produce a stacked bar chart where each bar represents a park, and the native/non-native species are stacked to show their total contributions."
   ]
  },
  {
   "cell_type": "code",
   "execution_count": 6,
   "metadata": {},
   "outputs": [
    {
     "ename": "UndefVarError",
     "evalue": "UndefVarError: `species_abundance_summary` not defined",
     "output_type": "error",
     "traceback": [
      "UndefVarError: `species_abundance_summary` not defined\n",
      "\n",
      "Stacktrace:\n",
      " [1] top-level scope\n",
      "   @ c:\\Users\\ndfos\\Documents\\tidy_tuesday\\National_Parks_2024_10_08\\jl_notebook_cell_df34fa98e69747e1a8f8a730347b8e2f_X14sZmlsZQ==.jl:3"
     ]
    }
   ],
   "source": [
    "# Stacked bar chart for species abundance by park and nativeness\n",
    "@chain species_abundance_summary begin\n",
    "    @df groupedbar(:ParkName, :Count, group=:Nativeness, bar_position=:stack,\n",
    "        title=\"Species Abundance by Park and Nativeness\", xlabel=\"Park Name\", ylabel=\"Species Count\",\n",
    "        legend=:topright, lw=0.8, fillalpha=0.7)\n",
    "end"
   ]
  },
  {
   "cell_type": "markdown",
   "metadata": {},
   "source": [
    "### Explanation:\n",
    "\n",
    "* `@chain`: Ensures a more readable pipeline for processing the data.\n",
    "* Data Processing: We:\n",
    "    * Select only relevant columns (`ParkName`, `Abundance`, `Nativeness`).\n",
    "    * Drop missing data.\n",
    "    * Group the data by park name and nativeness.\n",
    "    * Count the number of species in each group.\n",
    "* Plotting: We use the `groupedbar` function to create a stacked bar chart with native and non-native species counts per park."
   ]
  },
  {
   "cell_type": "markdown",
   "metadata": {},
   "source": [
    "## Steps for the Second Analysis:\n",
    "\n",
    "* Filter the dataset: Focus on the 15 most visited parks and select relevant columns such as ParkName, TEStatus, and Sensitive.\n",
    "* Group and summarize: We'll count the number of species per park that are either threatened, endangered, or sensitive.\n",
    "* Create a heatmap: Visualize the concentration of these species across the parks.\n",
    "\n",
    "## Code to Filter and Summarize Using `@chain`:"
   ]
  },
  {
   "cell_type": "code",
   "execution_count": 7,
   "metadata": {},
   "outputs": [
    {
     "ename": "UndefVarError",
     "evalue": "UndefVarError: `species_data` not defined",
     "output_type": "error",
     "traceback": [
      "UndefVarError: `species_data` not defined\n",
      "\n",
      "Stacktrace:\n",
      " [1] top-level scope\n",
      "   @ c:\\Users\\ndfos\\Documents\\tidy_tuesday\\National_Parks_2024_10_08\\jl_notebook_cell_df34fa98e69747e1a8f8a730347b8e2f_X20sZmlsZQ==.jl:2"
     ]
    }
   ],
   "source": [
    "# Filter and summarize the data for sensitive, threatened, and endangered species\n",
    "threatened_species_summary = @chain species_data begin\n",
    "    select([:ParkName, :TEStatus, :Sensitive])           # Select relevant columns\n",
    "    filter(row -> !ismissing(row.TEStatus) || row.Sensitive == true, _)  # Keep rows where species are threatened/endangered or sensitive\n",
    "    groupby(:ParkName)                                   # Group by park\n",
    "    combine(nrow => :Threatened_Species_Count)           # Count the number of species per park\n",
    "end\n",
    "\n",
    "# Preview the summarized data\n",
    "first(threatened_species_summary, 10)"
   ]
  },
  {
   "cell_type": "markdown",
   "metadata": {},
   "source": [
    "## Heatmap Visualization with `@chain`:"
   ]
  },
  {
   "cell_type": "code",
   "execution_count": 8,
   "metadata": {},
   "outputs": [
    {
     "ename": "UndefVarError",
     "evalue": "UndefVarError: `threatened_species_summary` not defined",
     "output_type": "error",
     "traceback": [
      "UndefVarError: `threatened_species_summary` not defined\n",
      "\n",
      "Stacktrace:\n",
      " [1] top-level scope\n",
      "   @ c:\\Users\\ndfos\\Documents\\tidy_tuesday\\National_Parks_2024_10_08\\jl_notebook_cell_df34fa98e69747e1a8f8a730347b8e2f_X22sZmlsZQ==.jl:3"
     ]
    }
   ],
   "source": [
    "# Heatmap showing the concentration of threatened and endangered species by park\n",
    "@chain threatened_species_summary begin\n",
    "    @df heatmap(:ParkName, :Threatened_Species_Count, color=:blues,\n",
    "        title=\"Concentration of Threatened and Sensitive Species by Park\", xlabel=\"Park Name\",\n",
    "        ylabel=\"Threatened/Sensitive Species Count\", clims=(0, maximum(threatened_species_summary[:Threatened_Species_Count])))\n",
    "end"
   ]
  },
  {
   "cell_type": "markdown",
   "metadata": {},
   "source": [
    "### Explanation:\n",
    "\n",
    "* Data Filtering: We filter species that are either:\n",
    "    * Marked as Sensitive, or\n",
    "    * Have a TEStatus indicating a threatened or endangered status.\n",
    "* Data Grouping: We group the filtered data by ParkName and count the number of threatened and sensitive species per park.\n",
    "* Heatmap: We create a heatmap to visualize the number of such species per park, using a blue color gradient to represent the density of threatened species."
   ]
  }
 ],
 "metadata": {
  "kernelspec": {
   "display_name": "Julia 1.10.5",
   "language": "julia",
   "name": "julia-1.10"
  },
  "language_info": {
   "file_extension": ".jl",
   "mimetype": "application/julia",
   "name": "julia",
   "version": "1.10.5"
  }
 },
 "nbformat": 4,
 "nbformat_minor": 2
}
